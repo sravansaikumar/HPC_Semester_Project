{
 "cells": [
  {
   "cell_type": "code",
   "execution_count": 1,
   "metadata": {},
   "outputs": [],
   "source": [
    "timee1 =[871.989844083786, 2440.591199874878, 4015.173701286316, 387.46331810951233, 212.47790241241455, 45.688692808151245]"
   ]
  },
  {
   "cell_type": "code",
   "execution_count": null,
   "metadata": {},
   "outputs": [],
   "source": []
  },
  {
   "cell_type": "code",
   "execution_count": 7,
   "metadata": {},
   "outputs": [],
   "source": [
    "def hpc1(img):\n",
    "    img.shape\n",
    "    img = cv2.resize(img, (512, 512))\n",
    "    np_arr = np.float64(img)\n",
    "    eff_size = 512   #Effective size of approximation coefficients part\n",
    "    #print(\"Effective size 512:\")\n",
    "    #plt.imshow(cv2.cvtColor(np.uint8(np_arr), cv2.COLOR_BGR2RGB))\n",
    "    #plt.show()\n",
    "    #with np.printoptions(precision=3,suppress=True):#, suppress=True\n",
    "        #print(np_arr[:,:,0])\n",
    "    np_arr = np.float64(img)\n",
    "\n",
    "    eff_size = 512   #Effective size of approximation coefficients part\n",
    "\n",
    "    haar_mat = np.eye(512, 512)\n",
    "    while eff_size > 1:\n",
    "        haar_mat_cur = np.zeros((512, 512))\n",
    "        for i in range(eff_size):\n",
    "            haar_mat_cur[i, i//2] = 0.5\n",
    "            haar_mat_cur[i, eff_size//2 + i//2] = (-0.5 if i&1 else 0.5)\n",
    "        for i in range(eff_size, 512):\n",
    "            haar_mat_cur[i, i] = 1\n",
    "        haar_mat = haar_mat @ haar_mat_cur\n",
    "        eff_size //= 2\n",
    "    \n",
    "    for channel in range(3):\n",
    "        np_arr[:,:,channel] = haar_mat.T @ np_arr[:,:,channel] @ haar_mat\n",
    "    #plt.imshow(cv2.cvtColor(np.uint8(np_arr), cv2.COLOR_BGR2RGB))\n",
    "    #plt.show()\n",
    "    np_arr = np.float64(img)\n",
    "\n",
    "    eff_size = 512   #Effective size of approximation coefficients part\n",
    "\n",
    "    haar_mat = np.eye(512, 512)\n",
    "    while eff_size > 1:\n",
    "        haar_mat_cur = np.zeros((512, 512))\n",
    "        for i in range(eff_size):\n",
    "            haar_mat_cur[i, i//2] = 1/np.sqrt(2)\n",
    "            haar_mat_cur[i, eff_size//2 + i//2] = (-1/np.sqrt(2) if i&1 else 1/np.sqrt(2))\n",
    "        for i in range(eff_size, 512):\n",
    "            haar_mat_cur[i, i] = 1\n",
    "        haar_mat = haar_mat @ haar_mat_cur\n",
    "        eff_size //= 2\n",
    "    \n",
    "    for channel in range(3):\n",
    "        np_arr[:,:,channel] = haar_mat.T @ np_arr[:,:,channel] @ haar_mat\n",
    "    #plt.imshow(cv2.cvtColor(np.uint8(np_arr), cv2.COLOR_BGR2RGB))\n",
    "    #plt.show()\n",
    "    "
   ]
  },
  {
   "cell_type": "code",
   "execution_count": 11,
   "metadata": {},
   "outputs": [],
   "source": [
    "import time\n",
    "import numpy as np\n",
    "import math\n",
    "import cv2\n",
    "import glob\n",
    "import matplotlib.pyplot as plt\n",
    "start=time.time()\n",
    "files = glob.glob (r\"C:\\Users\\charan ps\\Downloads\\cats10\\cat.*.jpg\")\n",
    "for myFile in files:\n",
    "    image = cv2.imread (myFile)\n",
    "    hpc1(image)\n",
    "timee2.append(time.time()-start)\n"
   ]
  },
  {
   "cell_type": "code",
   "execution_count": 12,
   "metadata": {},
   "outputs": [
    {
     "name": "stdout",
     "output_type": "stream",
     "text": [
      "[871.989844083786, 2440.591199874878, 4015.173701286316, 387.46331810951233, 212.47790241241455, 45.688692808151245]\n"
     ]
    }
   ],
   "source": [
    "print(timee2)"
   ]
  },
  {
   "cell_type": "code",
   "execution_count": null,
   "metadata": {},
   "outputs": [],
   "source": []
  }
 ],
 "metadata": {
  "kernelspec": {
   "display_name": "Python 3",
   "language": "python",
   "name": "python3"
  },
  "language_info": {
   "codemirror_mode": {
    "name": "ipython",
    "version": 3
   },
   "file_extension": ".py",
   "mimetype": "text/x-python",
   "name": "python",
   "nbconvert_exporter": "python",
   "pygments_lexer": "ipython3",
   "version": "3.8.5"
  }
 },
 "nbformat": 4,
 "nbformat_minor": 2
}
